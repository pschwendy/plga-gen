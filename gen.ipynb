{
 "cells": [
  {
   "cell_type": "code",
   "execution_count": 1,
   "metadata": {},
   "outputs": [],
   "source": [
    "# notebook version of gen.py\n",
    "import numpy as np\n",
    "from matplotlib import pyplot as plt"
   ]
  },
  {
   "cell_type": "code",
   "execution_count": 2,
   "metadata": {},
   "outputs": [],
   "source": [
    "def gen(\n",
    "        N: int, \n",
    "        g_prob: float = 0.25, \n",
    "        fixed: bool = True, \n",
    "        dimers: bool = False\n",
    "    ):\n",
    "    \"\"\"\n",
    "    Randomly generate polymer of length N from L and G monomers\n",
    "    \n",
    "    Args:\n",
    "        N (int): length of polymer (number of monomers it contains)\n",
    "        g_prob (float): probability of G appearance (default=0.25)\n",
    "        fixed (bool): whether to fix the number of Gs in string\n",
    "            - True -> randomly generate g_prob * N fixed positions (no replacement) for G monomers\n",
    "            - False -> every index has a g_prob probability of being a G \n",
    "        dimers (bool): whether polymer should be built by pairs of two polymer dimers \n",
    "    \n",
    "    Returns:\n",
    "        str: generated polymer\n",
    "    \n",
    "    Sample Runs:\n",
    "        (48, 0.25, True, False) -> LLGLLLGLLLLLGLGLLLLLLLLLLGLLLLLGLGGGGLLGLLLLGLLL\n",
    "        (48, 0.25, True, True) -> LLLLGGLLLLLLLLLLGGLLGGGGLLLLLLLLLLGGLLLLLLLLLLGG\n",
    "        (48, 0.25, False, False) -> LLLGGLGLLGLLGLLLLGLLLLLLLLLLLLLGLLGLLLGLLGGGGLLL\n",
    "    \"\"\"\n",
    "    \n",
    "    if dimers:\n",
    "        N = int(N / 2)\n",
    "\n",
    "    polymer_pos = []\n",
    "        \n",
    "    if fixed: \n",
    "        g_idx = np.random.choice(N, int(N * g_prob), replace=False)\n",
    "\n",
    "        polymer_pos = np.zeros(N, dtype=int)\n",
    "        polymer_pos[g_idx] = 1\n",
    "    else:\n",
    "        polymer_pos = np.array([1 if np.random.random() <  g_prob else 0 for _ in range(N)])\n",
    "\n",
    "    polymer = \"\"\n",
    "    for i in range(N):\n",
    "        if not dimers:\n",
    "            if polymer_pos[i] == 1: polymer += \"G\"\n",
    "            else: polymer += \"L\"\n",
    "        else:\n",
    "            if polymer_pos[i] == 1: polymer += \"GG\"\n",
    "            else: polymer += \"LL\"\n",
    "    \n",
    "    return polymer"
   ]
  },
  {
   "cell_type": "code",
   "execution_count": 3,
   "metadata": {},
   "outputs": [],
   "source": [
    "def calc_stats(polymer: str):\n",
    "    \"\"\"\n",
    "    Count number of overlapping GG, LL, GL, LG sub dimers\n",
    "\n",
    "    Args:\n",
    "        polymer (str): input polymer of L and G monomers\n",
    "\n",
    "    Returns:\n",
    "        4 element tuple: (GGs, LLs, GLs, LGs)\n",
    "    \"\"\"\n",
    "    n = len(polymer)\n",
    "\n",
    "    num_GGs = 0\n",
    "    for i in range(n - 1):\n",
    "        if polymer[i] == 'G' and polymer[i+1] == 'G':\n",
    "            num_GGs += 1\n",
    "    \n",
    "    num_LLs = 0\n",
    "    for i in range(n - 1):\n",
    "        if polymer[i] == 'L' and polymer[i+1] == 'L':\n",
    "            num_LLs += 1\n",
    "\n",
    "    num_GLs = 0\n",
    "    for i in range(n - 1):\n",
    "        if polymer[i] == 'G' and polymer[i+1] == 'L':\n",
    "            num_GLs += 1\n",
    "    \n",
    "    num_LGs = 0\n",
    "    for i in range(n - 1):\n",
    "        if polymer[i] == 'L' and polymer[i+1] == 'G':\n",
    "            num_LGs += 1\n",
    "\n",
    "    return num_GGs, num_LLs, num_GLs, num_LGs"
   ]
  },
  {
   "cell_type": "code",
   "execution_count": 4,
   "metadata": {},
   "outputs": [],
   "source": [
    "# Adjust generation inputs\n",
    "N = 10000\n",
    "\n",
    "p_length = 48\n",
    "g_rate = 0.25\n",
    "fix_Gs = True\n",
    "make_with_dimers = True\n",
    "\n",
    "GGs, LLs, GLs, LGs = [], [], [], []"
   ]
  },
  {
   "cell_type": "code",
   "execution_count": 5,
   "metadata": {},
   "outputs": [],
   "source": [
    "with open(f'data/sample_polymers_{p_length}.out', 'w') as f:\n",
    "    for _ in range(N):\n",
    "        polymer = gen(p_length, g_prob=g_rate, fixed=fix_Gs, dimers=make_with_dimers)\n",
    "        f.write(polymer + '\\n')\n",
    "\n",
    "        (GG, LL, GL, LG) = calc_stats(polymer)\n",
    "        GGs.append(GG)\n",
    "        LLs.append(LL)\n",
    "        GLs.append(GL)\n",
    "        LGs.append(LG)\n",
    "\n",
    "GGs = np.array(GGs)\n",
    "LLs = np.array(LLs)\n",
    "GLs = np.array(GLs)\n",
    "LGs = np.array(LGs)"
   ]
  },
  {
   "cell_type": "code",
   "execution_count": 6,
   "metadata": {},
   "outputs": [
    {
     "name": "stdout",
     "output_type": "stream",
     "text": [
      "Mean G-Gs: 7.25\n",
      "SEM G-Gs:  0.01\n",
      "--------------------\n",
      "Mean L-Ls: 30.75\n",
      "SEM L-Ls:  0.01\n",
      "--------------------\n",
      "Mean G-Ls: 4.50\n",
      "SEM G-Ls:  0.01\n",
      "--------------------\n",
      "Mean L-Gs: 4.49\n",
      "SEM L-Gs:  0.01\n"
     ]
    }
   ],
   "source": [
    "print(f\"Mean G-Gs: {np.mean(GGs):.2f}\")\n",
    "print(f\"SEM G-Gs:  {np.std(GGs) / np.sqrt(N - 1):.2f}\")\n",
    "print(\"-\" * 20)\n",
    "\n",
    "print(f\"Mean L-Ls: {np.mean(LLs):.2f}\")\n",
    "print(f\"SEM L-Ls:  {np.std(LLs) / np.sqrt(N - 1):.2f}\")\n",
    "print(\"-\" * 20)\n",
    "\n",
    "print(f\"Mean G-Ls: {np.mean(GLs):.2f}\")\n",
    "print(f\"SEM G-Ls:  {np.std(GLs) / np.sqrt(N - 1):.2f}\")\n",
    "print(\"-\" * 20)\n",
    "\n",
    "print(f\"Mean L-Gs: {np.mean(LGs):.2f}\")\n",
    "print(f\"SEM L-Gs:  {np.std(LGs) / np.sqrt(N - 1):.2f}\")"
   ]
  },
  {
   "cell_type": "code",
   "execution_count": 7,
   "metadata": {},
   "outputs": [
    {
     "name": "stdout",
     "output_type": "stream",
     "text": [
      "OTHER METRICS\n",
      "L_L (mean)    = 8.27\n",
      "L_L (sem)     = 0.02\n",
      "\n",
      "L_G (mean)    = 2.75\n",
      "L_G (sem)     = 0.01\n",
      "\n",
      "R_c (mean)    = 1.75\n",
      "R_c (sem)     = 0.01\n"
     ]
    }
   ],
   "source": [
    "# Correct 0s to 1s to avoid divide by 0\n",
    "for i in range(len(LGs)):\n",
    "    if(LGs[i] == 0):\n",
    "        LGs[i] = 1\n",
    "    if(GLs[i] == 0):\n",
    "        GLs[i] = 1\n",
    "\n",
    "print(\"OTHER METRICS\")\n",
    "print(f\"L_L (mean)    = {np.mean(LLs / LGs + 1):.2f}\")\n",
    "print(f\"L_L (sem)     = {np.std(LLs / LGs + 1) / np.sqrt(N - 1):.2f}\")\n",
    "print()\n",
    "print(f\"L_G (mean)    = {np.mean(GGs / GLs + 1):.2f}\")\n",
    "print(f\"L_G (sem)     = {np.std(GGs / GLs + 1) / np.sqrt(N - 1):.2f}\")\n",
    "print()\n",
    "print(f\"R_c (mean)    = {np.mean(GGs / GLs):.2f}\")\n",
    "print(f\"R_c (sem)     = {np.std(GGs / GLs) / np.sqrt(N - 1):.2f}\")"
   ]
  },
  {
   "cell_type": "code",
   "execution_count": 8,
   "metadata": {},
   "outputs": [],
   "source": [
    "N = 10000\n",
    "\n",
    "DOPs = np.arange(40, 1000, step=40)\n",
    "\n",
    "L_L_means, L_L_sems = [], []\n",
    "L_G_means, L_G_sems = [], []\n",
    "R_c_means, R_c_sems = [], []"
   ]
  },
  {
   "cell_type": "code",
   "execution_count": 9,
   "metadata": {},
   "outputs": [],
   "source": [
    "for n in DOPs:\n",
    "    GGs, LLs, GLs, LGs = [], [], [], []\n",
    "    \n",
    "    for _ in range(N):\n",
    "        polymer = gen(n, g_prob=g_rate, fixed=False, dimers=make_with_dimers)\n",
    "\n",
    "        (GG, LL, GL, LG) = calc_stats(polymer)\n",
    "        GGs.append(GG)\n",
    "        LLs.append(LL)\n",
    "        GLs.append(GL)\n",
    "        LGs.append(LG)\n",
    "\n",
    "    GGs = np.array(GGs)\n",
    "    LLs = np.array(LLs)\n",
    "    GLs = np.array(GLs)\n",
    "    LGs = np.array(LGs)\n",
    "    \n",
    "    for i in range(len(LGs)):\n",
    "        if(LGs[i] == 0):\n",
    "            LGs[i] = 1\n",
    "        if(GLs[i] == 0):\n",
    "            GLs[i] = 1\n",
    "    \n",
    "    L_L_means.append(np.mean(LLs / LGs + 1))\n",
    "    L_L_sems.append(np.std(LLs / LGs + 1) / np.sqrt(N - 1))\n",
    "    \n",
    "    L_G_means.append(np.mean(GGs / GLs + 1))\n",
    "    L_G_sems.append(np.std(GGs / GLs + 1) / np.sqrt(N - 1))\n",
    "    \n",
    "    R_c_means.append(np.mean(GGs / GLs))\n",
    "    R_c_sems.append(np.std(GGs / GLs) / np.sqrt(N - 1))"
   ]
  },
  {
   "cell_type": "code",
   "execution_count": 10,
   "metadata": {},
   "outputs": [
    {
     "data": {
      "text/plain": [
       "<matplotlib.legend.Legend at 0x7fb900fdf250>"
      ]
     },
     "execution_count": 10,
     "metadata": {},
     "output_type": "execute_result"
    },
    {
     "data": {
      "image/png": "[encoded data removed]",
      "text/plain": [
       "<Figure size 640x480 with 1 Axes>"
      ]
     },
     "metadata": {},
     "output_type": "display_data"
    }
   ],
   "source": [
    "fig, ax = plt.subplots()\n",
    "\n",
    "ax.errorbar(DOPs, L_L_means, yerr=np.array(L_L_sems), label='$L_L$')\n",
    "ax.errorbar(DOPs, L_G_means, yerr=np.array(L_G_sems), label='$L_G$')\n",
    "ax.errorbar(DOPs, R_c_means, yerr=np.array(R_c_sems), label='$R_c$')\n",
    "\n",
    "ax.legend()"
   ]
  },
  {
   "cell_type": "code",
   "execution_count": null,
   "metadata": {},
   "outputs": [],
   "source": []
  }
 ],
 "metadata": {
  "kernelspec": {
   "display_name": "Python 3 (ipykernel)",
   "language": "python",
   "name": "python3"
  },
  "language_info": {
   "codemirror_mode": {
    "name": "ipython",
    "version": 3
   },
   "file_extension": ".py",
   "mimetype": "text/x-python",
   "name": "python",
   "nbconvert_exporter": "python",
   "pygments_lexer": "ipython3",
   "version": "3.10.9"
  }
 },
 "nbformat": 4,
 "nbformat_minor": 2
}
